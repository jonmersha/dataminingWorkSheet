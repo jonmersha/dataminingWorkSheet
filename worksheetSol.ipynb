{
 "cells": [
  {
   "attachments": {},
   "cell_type": "markdown",
   "metadata": {},
   "source": [
    "## Data Acquisition Phase"
   ]
  },
  {
   "cell_type": "markdown",
   "metadata": {},
   "source": [
    "1.\tExtract all tweets about any selected hot topic from tweeter and save it in a csv file. The tweet must contain the following information (tweet id, tweet time, tweet author, tweet text). "
   ]
  },
  {
   "cell_type": "code",
   "execution_count": 3,
   "metadata": {},
   "outputs": [
    {
     "data": {
      "text/html": [
       "<div>\n",
       "<style scoped>\n",
       "    .dataframe tbody tr th:only-of-type {\n",
       "        vertical-align: middle;\n",
       "    }\n",
       "\n",
       "    .dataframe tbody tr th {\n",
       "        vertical-align: top;\n",
       "    }\n",
       "\n",
       "    .dataframe thead th {\n",
       "        text-align: right;\n",
       "    }\n",
       "</style>\n",
       "<table border=\"1\" class=\"dataframe\">\n",
       "  <thead>\n",
       "    <tr style=\"text-align: right;\">\n",
       "      <th></th>\n",
       "      <th>Unnamed: 0</th>\n",
       "      <th>Tweet Id</th>\n",
       "      <th>Text</th>\n",
       "      <th>Name</th>\n",
       "      <th>Screen Name</th>\n",
       "      <th>UTC</th>\n",
       "      <th>Created At</th>\n",
       "      <th>Favorites</th>\n",
       "      <th>Retweets</th>\n",
       "      <th>Language</th>\n",
       "      <th>Client</th>\n",
       "      <th>Tweet Type</th>\n",
       "      <th>Media Type</th>\n",
       "      <th>Media URLs</th>\n",
       "      <th>URLs</th>\n",
       "      <th>Hashtags</th>\n",
       "      <th>Mentions</th>\n",
       "    </tr>\n",
       "  </thead>\n",
       "  <tbody>\n",
       "    <tr>\n",
       "      <th>0</th>\n",
       "      <td>0</td>\n",
       "      <td>1266611922150895616</td>\n",
       "      <td>RT @ugc_india : #UGC requests HEIs &amp;amp; State...</td>\n",
       "      <td>RBVRR Women's College</td>\n",
       "      <td>Rbvrrwc</td>\n",
       "      <td>2020-05-30T06:06:29.000Z</td>\n",
       "      <td>Sat May 30 06:06:29 +0000 2020</td>\n",
       "      <td>0</td>\n",
       "      <td>0</td>\n",
       "      <td>en</td>\n",
       "      <td>&lt;a href=\"https://mobile.twitter.com\" rel=\"nofo...</td>\n",
       "      <td>Retweet</td>\n",
       "      <td>Photo</td>\n",
       "      <td>https://pbs.twimg.com/media/EZHO8YnVAAIWxPC.jp...</td>\n",
       "      <td>0</td>\n",
       "      <td>3</td>\n",
       "      <td>6</td>\n",
       "    </tr>\n",
       "    <tr>\n",
       "      <th>1</th>\n",
       "      <td>1</td>\n",
       "      <td>1266611904107040770</td>\n",
       "      <td>RT @sofyvaldivia : Ⓜ️Vecinos del Gimnasio Muni...</td>\n",
       "      <td>Frankk_35</td>\n",
       "      <td>construred_oax</td>\n",
       "      <td>2020-05-30T06:06:25.000Z</td>\n",
       "      <td>Sat May 30 06:06:25 +0000 2020</td>\n",
       "      <td>0</td>\n",
       "      <td>0</td>\n",
       "      <td>es</td>\n",
       "      <td>&lt;a href=\"http://twitter.com/download/iphone\" r...</td>\n",
       "      <td>Retweet</td>\n",
       "      <td>Video</td>\n",
       "      <td>https://video.twimg.com/ext_tw_video/126659117...</td>\n",
       "      <td>0</td>\n",
       "      <td>1</td>\n",
       "      <td>2</td>\n",
       "    </tr>\n",
       "    <tr>\n",
       "      <th>2</th>\n",
       "      <td>2</td>\n",
       "      <td>1266611713388040197</td>\n",
       "      <td>RT @Pinchez81533825 : @GhettoRadio895 @DjDaboT...</td>\n",
       "      <td>Dj Double Trouble</td>\n",
       "      <td>DjDaboTrabo</td>\n",
       "      <td>2020-05-30T06:05:39.000Z</td>\n",
       "      <td>Sat May 30 06:05:39 +0000 2020</td>\n",
       "      <td>0</td>\n",
       "      <td>0</td>\n",
       "      <td>en</td>\n",
       "      <td>&lt;a href=\"http://twitter.com/download/android\" ...</td>\n",
       "      <td>Retweet</td>\n",
       "      <td>NaN</td>\n",
       "      <td>NaN</td>\n",
       "      <td>0</td>\n",
       "      <td>1</td>\n",
       "      <td>3</td>\n",
       "    </tr>\n",
       "    <tr>\n",
       "      <th>3</th>\n",
       "      <td>3</td>\n",
       "      <td>1266611711055933440</td>\n",
       "      <td>RT @unwomenasia : “Promoting gender equality i...</td>\n",
       "      <td>Marsella Lee</td>\n",
       "      <td>sellalalee</td>\n",
       "      <td>2020-05-30T06:05:39.000Z</td>\n",
       "      <td>Sat May 30 06:05:39 +0000 2020</td>\n",
       "      <td>0</td>\n",
       "      <td>0</td>\n",
       "      <td>en</td>\n",
       "      <td>&lt;a href=\"http://twitter.com/download/android\" ...</td>\n",
       "      <td>Retweet</td>\n",
       "      <td>NaN</td>\n",
       "      <td>NaN</td>\n",
       "      <td>1</td>\n",
       "      <td>2</td>\n",
       "      <td>1</td>\n",
       "    </tr>\n",
       "    <tr>\n",
       "      <th>4</th>\n",
       "      <td>4</td>\n",
       "      <td>1266611707650224128</td>\n",
       "      <td>RT @philmoi : Mon ami Pharmacien confirme le R...</td>\n",
       "      <td>micmousse</td>\n",
       "      <td>micmousse18</td>\n",
       "      <td>2020-05-30T06:05:38.000Z</td>\n",
       "      <td>Sat May 30 06:05:38 +0000 2020</td>\n",
       "      <td>0</td>\n",
       "      <td>0</td>\n",
       "      <td>fr</td>\n",
       "      <td>&lt;a href=\"https://mobile.twitter.com\" rel=\"nofo...</td>\n",
       "      <td>Retweet</td>\n",
       "      <td>NaN</td>\n",
       "      <td>NaN</td>\n",
       "      <td>1</td>\n",
       "      <td>2</td>\n",
       "      <td>1</td>\n",
       "    </tr>\n",
       "  </tbody>\n",
       "</table>\n",
       "</div>"
      ],
      "text/plain": [
       "   Unnamed: 0             Tweet Id  \\\n",
       "0           0  1266611922150895616   \n",
       "1           1  1266611904107040770   \n",
       "2           2  1266611713388040197   \n",
       "3           3  1266611711055933440   \n",
       "4           4  1266611707650224128   \n",
       "\n",
       "                                                Text                   Name  \\\n",
       "0  RT @ugc_india : #UGC requests HEIs &amp; State...  RBVRR Women's College   \n",
       "1  RT @sofyvaldivia : Ⓜ️Vecinos del Gimnasio Muni...              Frankk_35   \n",
       "2  RT @Pinchez81533825 : @GhettoRadio895 @DjDaboT...      Dj Double Trouble   \n",
       "3  RT @unwomenasia : “Promoting gender equality i...           Marsella Lee   \n",
       "4  RT @philmoi : Mon ami Pharmacien confirme le R...              micmousse   \n",
       "\n",
       "      Screen Name                       UTC                      Created At  \\\n",
       "0         Rbvrrwc  2020-05-30T06:06:29.000Z  Sat May 30 06:06:29 +0000 2020   \n",
       "1  construred_oax  2020-05-30T06:06:25.000Z  Sat May 30 06:06:25 +0000 2020   \n",
       "2     DjDaboTrabo  2020-05-30T06:05:39.000Z  Sat May 30 06:05:39 +0000 2020   \n",
       "3      sellalalee  2020-05-30T06:05:39.000Z  Sat May 30 06:05:39 +0000 2020   \n",
       "4     micmousse18  2020-05-30T06:05:38.000Z  Sat May 30 06:05:38 +0000 2020   \n",
       "\n",
       "   Favorites  Retweets Language  \\\n",
       "0          0         0       en   \n",
       "1          0         0       es   \n",
       "2          0         0       en   \n",
       "3          0         0       en   \n",
       "4          0         0       fr   \n",
       "\n",
       "                                              Client Tweet Type Media Type  \\\n",
       "0  <a href=\"https://mobile.twitter.com\" rel=\"nofo...    Retweet      Photo   \n",
       "1  <a href=\"http://twitter.com/download/iphone\" r...    Retweet      Video   \n",
       "2  <a href=\"http://twitter.com/download/android\" ...    Retweet        NaN   \n",
       "3  <a href=\"http://twitter.com/download/android\" ...    Retweet        NaN   \n",
       "4  <a href=\"https://mobile.twitter.com\" rel=\"nofo...    Retweet        NaN   \n",
       "\n",
       "                                          Media URLs  URLs  Hashtags  Mentions  \n",
       "0  https://pbs.twimg.com/media/EZHO8YnVAAIWxPC.jp...     0         3         6  \n",
       "1  https://video.twimg.com/ext_tw_video/126659117...     0         1         2  \n",
       "2                                                NaN     0         1         3  \n",
       "3                                                NaN     1         2         1  \n",
       "4                                                NaN     1         2         1  "
      ]
     },
     "execution_count": 3,
     "metadata": {},
     "output_type": "execute_result"
    }
   ],
   "source": [
    "import pandas as pd\n",
    "df=pd.read_csv('covid19.csv')\n",
    "df.head()"
   ]
  },
  {
   "cell_type": "markdown",
   "metadata": {},
   "source": [
    "2.\tExtract all tweets about Jimma University from tweeter and save it in a csv file. The tweet must contain the following information (tweet id, tweet time, tweet author, tweet text). \n",
    "\n",
    "\n"
   ]
  },
  {
   "cell_type": "code",
   "execution_count": null,
   "metadata": {},
   "outputs": [],
   "source": []
  },
  {
   "cell_type": "markdown",
   "metadata": {},
   "source": [
    "3.\tExtract all posts about any selected hot topic from Facebook and save it in a csv file. The post must contain the following information (post id, author, text, number of likes). "
   ]
  },
  {
   "cell_type": "code",
   "execution_count": 10,
   "metadata": {},
   "outputs": [
    {
     "name": "stdout",
     "output_type": "stream",
     "text": [
      "   Unnamed: 0                                                url text  \\\n",
      "0           0  /story.php?story_fbid=2946046748766270&id=1000...   []   \n",
      "1           1  /story.php?story_fbid=2943539265683685&id=1000...   []   \n",
      "2           2  /photo.php?fbid=2923349841035961&id=1000008292...   []   \n",
      "3           3  /photo.php?fbid=2923344097703202&id=1000008292...   []   \n",
      "4           4  /story.php?story_fbid=2923180484386230&id=1000...   []   \n",
      "\n",
      "                                           media_url comments likes  \n",
      "0  /Yohannescoop?fref=nf&refid=52&_ft_=mf_story_k...       []    []  \n",
      "1                                                NaN       []    []  \n",
      "2                                                NaN       []    []  \n",
      "3                                                NaN       []    []  \n",
      "4  /Yohannescoop?fref=nf&refid=52&_ft_=mf_story_k...       []    []  \n",
      "200\n"
     ]
    },
    {
     "data": {
      "text/plain": [
       "(200, 6)"
      ]
     },
     "execution_count": 10,
     "metadata": {},
     "output_type": "execute_result"
    }
   ],
   "source": [
    "fb_post_df=pd.read_csv('facebook_post.csv')\n",
    "print(fb_post_df.head())\n",
    "print(len(fb_post_df))\n",
    "fb_post_df.shape"
   ]
  },
  {
   "cell_type": "code",
   "execution_count": null,
   "metadata": {},
   "outputs": [],
   "source": []
  }
 ],
 "metadata": {
  "kernelspec": {
   "display_name": "Python 3",
   "language": "python",
   "name": "python3"
  },
  "language_info": {
   "codemirror_mode": {
    "name": "ipython",
    "version": 3
   },
   "file_extension": ".py",
   "mimetype": "text/x-python",
   "name": "python",
   "nbconvert_exporter": "python",
   "pygments_lexer": "ipython3",
   "version": "3.7.7"
  }
 },
 "nbformat": 4,
 "nbformat_minor": 4
}
