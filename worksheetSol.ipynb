{
 "cells": [
  {
   "cell_type": "markdown",
   "metadata": {},
   "source": [
    "# Data Acquisition Phase"
   ]
  },
  {
   "cell_type": "markdown",
   "metadata": {},
   "source": [
    "### 1.\tExtract all tweets about any selected hot topic from tweeter and save it in a csv file. The tweet must contain the following information (tweet id, tweet time, tweet author, tweet text). "
   ]
  },
  {
   "cell_type": "code",
   "execution_count": 3,
   "metadata": {},
   "outputs": [
    {
     "data": {
      "text/html": [
       "<div>\n",
       "<style scoped>\n",
       "    .dataframe tbody tr th:only-of-type {\n",
       "        vertical-align: middle;\n",
       "    }\n",
       "\n",
       "    .dataframe tbody tr th {\n",
       "        vertical-align: top;\n",
       "    }\n",
       "\n",
       "    .dataframe thead th {\n",
       "        text-align: right;\n",
       "    }\n",
       "</style>\n",
       "<table border=\"1\" class=\"dataframe\">\n",
       "  <thead>\n",
       "    <tr style=\"text-align: right;\">\n",
       "      <th></th>\n",
       "      <th>Unnamed: 0</th>\n",
       "      <th>Tweet Id</th>\n",
       "      <th>Text</th>\n",
       "      <th>Name</th>\n",
       "      <th>Screen Name</th>\n",
       "      <th>UTC</th>\n",
       "      <th>Created At</th>\n",
       "      <th>Favorites</th>\n",
       "      <th>Retweets</th>\n",
       "      <th>Language</th>\n",
       "      <th>Client</th>\n",
       "      <th>Tweet Type</th>\n",
       "      <th>Media Type</th>\n",
       "      <th>Media URLs</th>\n",
       "      <th>URLs</th>\n",
       "      <th>Hashtags</th>\n",
       "      <th>Mentions</th>\n",
       "    </tr>\n",
       "  </thead>\n",
       "  <tbody>\n",
       "    <tr>\n",
       "      <th>0</th>\n",
       "      <td>0</td>\n",
       "      <td>1266611922150895616</td>\n",
       "      <td>RT @ugc_india : #UGC requests HEIs &amp;amp; State...</td>\n",
       "      <td>RBVRR Women's College</td>\n",
       "      <td>Rbvrrwc</td>\n",
       "      <td>2020-05-30T06:06:29.000Z</td>\n",
       "      <td>Sat May 30 06:06:29 +0000 2020</td>\n",
       "      <td>0</td>\n",
       "      <td>0</td>\n",
       "      <td>en</td>\n",
       "      <td>&lt;a href=\"https://mobile.twitter.com\" rel=\"nofo...</td>\n",
       "      <td>Retweet</td>\n",
       "      <td>Photo</td>\n",
       "      <td>https://pbs.twimg.com/media/EZHO8YnVAAIWxPC.jp...</td>\n",
       "      <td>0</td>\n",
       "      <td>3</td>\n",
       "      <td>6</td>\n",
       "    </tr>\n",
       "    <tr>\n",
       "      <th>1</th>\n",
       "      <td>1</td>\n",
       "      <td>1266611904107040770</td>\n",
       "      <td>RT @sofyvaldivia : Ⓜ️Vecinos del Gimnasio Muni...</td>\n",
       "      <td>Frankk_35</td>\n",
       "      <td>construred_oax</td>\n",
       "      <td>2020-05-30T06:06:25.000Z</td>\n",
       "      <td>Sat May 30 06:06:25 +0000 2020</td>\n",
       "      <td>0</td>\n",
       "      <td>0</td>\n",
       "      <td>es</td>\n",
       "      <td>&lt;a href=\"http://twitter.com/download/iphone\" r...</td>\n",
       "      <td>Retweet</td>\n",
       "      <td>Video</td>\n",
       "      <td>https://video.twimg.com/ext_tw_video/126659117...</td>\n",
       "      <td>0</td>\n",
       "      <td>1</td>\n",
       "      <td>2</td>\n",
       "    </tr>\n",
       "    <tr>\n",
       "      <th>2</th>\n",
       "      <td>2</td>\n",
       "      <td>1266611713388040197</td>\n",
       "      <td>RT @Pinchez81533825 : @GhettoRadio895 @DjDaboT...</td>\n",
       "      <td>Dj Double Trouble</td>\n",
       "      <td>DjDaboTrabo</td>\n",
       "      <td>2020-05-30T06:05:39.000Z</td>\n",
       "      <td>Sat May 30 06:05:39 +0000 2020</td>\n",
       "      <td>0</td>\n",
       "      <td>0</td>\n",
       "      <td>en</td>\n",
       "      <td>&lt;a href=\"http://twitter.com/download/android\" ...</td>\n",
       "      <td>Retweet</td>\n",
       "      <td>NaN</td>\n",
       "      <td>NaN</td>\n",
       "      <td>0</td>\n",
       "      <td>1</td>\n",
       "      <td>3</td>\n",
       "    </tr>\n",
       "    <tr>\n",
       "      <th>3</th>\n",
       "      <td>3</td>\n",
       "      <td>1266611711055933440</td>\n",
       "      <td>RT @unwomenasia : “Promoting gender equality i...</td>\n",
       "      <td>Marsella Lee</td>\n",
       "      <td>sellalalee</td>\n",
       "      <td>2020-05-30T06:05:39.000Z</td>\n",
       "      <td>Sat May 30 06:05:39 +0000 2020</td>\n",
       "      <td>0</td>\n",
       "      <td>0</td>\n",
       "      <td>en</td>\n",
       "      <td>&lt;a href=\"http://twitter.com/download/android\" ...</td>\n",
       "      <td>Retweet</td>\n",
       "      <td>NaN</td>\n",
       "      <td>NaN</td>\n",
       "      <td>1</td>\n",
       "      <td>2</td>\n",
       "      <td>1</td>\n",
       "    </tr>\n",
       "    <tr>\n",
       "      <th>4</th>\n",
       "      <td>4</td>\n",
       "      <td>1266611707650224128</td>\n",
       "      <td>RT @philmoi : Mon ami Pharmacien confirme le R...</td>\n",
       "      <td>micmousse</td>\n",
       "      <td>micmousse18</td>\n",
       "      <td>2020-05-30T06:05:38.000Z</td>\n",
       "      <td>Sat May 30 06:05:38 +0000 2020</td>\n",
       "      <td>0</td>\n",
       "      <td>0</td>\n",
       "      <td>fr</td>\n",
       "      <td>&lt;a href=\"https://mobile.twitter.com\" rel=\"nofo...</td>\n",
       "      <td>Retweet</td>\n",
       "      <td>NaN</td>\n",
       "      <td>NaN</td>\n",
       "      <td>1</td>\n",
       "      <td>2</td>\n",
       "      <td>1</td>\n",
       "    </tr>\n",
       "  </tbody>\n",
       "</table>\n",
       "</div>"
      ],
      "text/plain": [
       "   Unnamed: 0             Tweet Id  \\\n",
       "0           0  1266611922150895616   \n",
       "1           1  1266611904107040770   \n",
       "2           2  1266611713388040197   \n",
       "3           3  1266611711055933440   \n",
       "4           4  1266611707650224128   \n",
       "\n",
       "                                                Text                   Name  \\\n",
       "0  RT @ugc_india : #UGC requests HEIs &amp; State...  RBVRR Women's College   \n",
       "1  RT @sofyvaldivia : Ⓜ️Vecinos del Gimnasio Muni...              Frankk_35   \n",
       "2  RT @Pinchez81533825 : @GhettoRadio895 @DjDaboT...      Dj Double Trouble   \n",
       "3  RT @unwomenasia : “Promoting gender equality i...           Marsella Lee   \n",
       "4  RT @philmoi : Mon ami Pharmacien confirme le R...              micmousse   \n",
       "\n",
       "      Screen Name                       UTC                      Created At  \\\n",
       "0         Rbvrrwc  2020-05-30T06:06:29.000Z  Sat May 30 06:06:29 +0000 2020   \n",
       "1  construred_oax  2020-05-30T06:06:25.000Z  Sat May 30 06:06:25 +0000 2020   \n",
       "2     DjDaboTrabo  2020-05-30T06:05:39.000Z  Sat May 30 06:05:39 +0000 2020   \n",
       "3      sellalalee  2020-05-30T06:05:39.000Z  Sat May 30 06:05:39 +0000 2020   \n",
       "4     micmousse18  2020-05-30T06:05:38.000Z  Sat May 30 06:05:38 +0000 2020   \n",
       "\n",
       "   Favorites  Retweets Language  \\\n",
       "0          0         0       en   \n",
       "1          0         0       es   \n",
       "2          0         0       en   \n",
       "3          0         0       en   \n",
       "4          0         0       fr   \n",
       "\n",
       "                                              Client Tweet Type Media Type  \\\n",
       "0  <a href=\"https://mobile.twitter.com\" rel=\"nofo...    Retweet      Photo   \n",
       "1  <a href=\"http://twitter.com/download/iphone\" r...    Retweet      Video   \n",
       "2  <a href=\"http://twitter.com/download/android\" ...    Retweet        NaN   \n",
       "3  <a href=\"http://twitter.com/download/android\" ...    Retweet        NaN   \n",
       "4  <a href=\"https://mobile.twitter.com\" rel=\"nofo...    Retweet        NaN   \n",
       "\n",
       "                                          Media URLs  URLs  Hashtags  Mentions  \n",
       "0  https://pbs.twimg.com/media/EZHO8YnVAAIWxPC.jp...     0         3         6  \n",
       "1  https://video.twimg.com/ext_tw_video/126659117...     0         1         2  \n",
       "2                                                NaN     0         1         3  \n",
       "3                                                NaN     1         2         1  \n",
       "4                                                NaN     1         2         1  "
      ]
     },
     "execution_count": 3,
     "metadata": {},
     "output_type": "execute_result"
    }
   ],
   "source": [
    "import pandas as pd\n",
    "df=pd.read_csv('data/covid19.csv')\n",
    "df.head()"
   ]
  },
  {
   "cell_type": "markdown",
   "metadata": {},
   "source": [
    "2.\tExtract all tweets about Jimma University from tweeter and save it in a csv file. The tweet must contain the following information (tweet id, tweet time, tweet author, tweet text). \n",
    "\n",
    "\n"
   ]
  },
  {
   "cell_type": "code",
   "execution_count": null,
   "metadata": {},
   "outputs": [],
   "source": []
  },
  {
   "cell_type": "markdown",
   "metadata": {},
   "source": [
    "### 3.\tExtract all posts about any selected hot topic from Facebook and save it in a csv file. The post must contain the following information (post id, author, text, number of likes). "
   ]
  },
  {
   "cell_type": "code",
   "execution_count": 10,
   "metadata": {},
   "outputs": [
    {
     "name": "stdout",
     "output_type": "stream",
     "text": [
      "   Unnamed: 0                                                url text  \\\n",
      "0           0  /story.php?story_fbid=2946046748766270&id=1000...   []   \n",
      "1           1  /story.php?story_fbid=2943539265683685&id=1000...   []   \n",
      "2           2  /photo.php?fbid=2923349841035961&id=1000008292...   []   \n",
      "3           3  /photo.php?fbid=2923344097703202&id=1000008292...   []   \n",
      "4           4  /story.php?story_fbid=2923180484386230&id=1000...   []   \n",
      "\n",
      "                                           media_url comments likes  \n",
      "0  /Yohannescoop?fref=nf&refid=52&_ft_=mf_story_k...       []    []  \n",
      "1                                                NaN       []    []  \n",
      "2                                                NaN       []    []  \n",
      "3                                                NaN       []    []  \n",
      "4  /Yohannescoop?fref=nf&refid=52&_ft_=mf_story_k...       []    []  \n",
      "200\n"
     ]
    },
    {
     "data": {
      "text/plain": [
       "(200, 6)"
      ]
     },
     "execution_count": 10,
     "metadata": {},
     "output_type": "execute_result"
    }
   ],
   "source": [
    "fb_post_df=pd.read_csv('data/facebook_post.csv')\n",
    "print(fb_post_df.head())\n",
    "print(len(fb_post_df))\n",
    "fb_post_df.shape"
   ]
  },
  {
   "cell_type": "markdown",
   "metadata": {},
   "source": [
    "### 4.\tExtract the first paragraph for 100 Wikipedia articles from Wikipedia and represent in a term by document matrix\n",
    "    PIP install shorttext\n",
    "    pip install wekipedia"
   ]
  },
  {
   "cell_type": "markdown",
   "metadata": {},
   "source": [
    "# import shorttext\n",
    "# import numpy as np\n",
    "# import pandas as pd\n",
    "# from stemming.porter import stem\n",
    " \n",
    "# import re"
   ]
  },
  {
   "cell_type": "markdown",
   "metadata": {},
   "source": [
    "# B.\tData Preparation Phase\n",
    "### Use the AcadamicAchievement.csv file to answer the following questions "
   ]
  },
  {
   "cell_type": "markdown",
   "metadata": {},
   "source": [
    "#### 1. From the Age attribute, compute the  \n",
    "    a.\tMean \n",
    "    b.\tMedia \n",
    "    c.\tStandard deviation \n",
    "    d.\tRange "
   ]
  },
  {
   "cell_type": "code",
   "execution_count": 2,
   "metadata": {},
   "outputs": [
    {
     "data": {
      "text/html": [
       "<div>\n",
       "<style scoped>\n",
       "    .dataframe tbody tr th:only-of-type {\n",
       "        vertical-align: middle;\n",
       "    }\n",
       "\n",
       "    .dataframe tbody tr th {\n",
       "        vertical-align: top;\n",
       "    }\n",
       "\n",
       "    .dataframe thead th {\n",
       "        text-align: right;\n",
       "    }\n",
       "</style>\n",
       "<table border=\"1\" class=\"dataframe\">\n",
       "  <thead>\n",
       "    <tr style=\"text-align: right;\">\n",
       "      <th></th>\n",
       "      <th>Name</th>\n",
       "      <th>Age</th>\n",
       "      <th>Sex</th>\n",
       "      <th>BirthYear</th>\n",
       "      <th>Achivement</th>\n",
       "    </tr>\n",
       "  </thead>\n",
       "  <tbody>\n",
       "    <tr>\n",
       "      <th>0</th>\n",
       "      <td>xx</td>\n",
       "      <td>34.0</td>\n",
       "      <td>Female</td>\n",
       "      <td>1984.0</td>\n",
       "      <td>Low</td>\n",
       "    </tr>\n",
       "    <tr>\n",
       "      <th>1</th>\n",
       "      <td>xy</td>\n",
       "      <td>20.0</td>\n",
       "      <td>Male</td>\n",
       "      <td>1998.0</td>\n",
       "      <td>Low</td>\n",
       "    </tr>\n",
       "    <tr>\n",
       "      <th>2</th>\n",
       "      <td>xz</td>\n",
       "      <td>39.0</td>\n",
       "      <td>Male</td>\n",
       "      <td>1979.0</td>\n",
       "      <td>High</td>\n",
       "    </tr>\n",
       "    <tr>\n",
       "      <th>3</th>\n",
       "      <td>xa</td>\n",
       "      <td>20.0</td>\n",
       "      <td>Female</td>\n",
       "      <td>1998.0</td>\n",
       "      <td>Low</td>\n",
       "    </tr>\n",
       "    <tr>\n",
       "      <th>4</th>\n",
       "      <td>xb</td>\n",
       "      <td>21.0</td>\n",
       "      <td>Male</td>\n",
       "      <td>1991.0</td>\n",
       "      <td>Low</td>\n",
       "    </tr>\n",
       "  </tbody>\n",
       "</table>\n",
       "</div>"
      ],
      "text/plain": [
       "  Name   Age     Sex  BirthYear Achivement\n",
       "0   xx  34.0  Female     1984.0        Low\n",
       "1   xy  20.0    Male     1998.0        Low\n",
       "2   xz  39.0    Male     1979.0       High\n",
       "3   xa  20.0  Female     1998.0        Low\n",
       "4   xb  21.0    Male     1991.0        Low"
      ]
     },
     "execution_count": 2,
     "metadata": {},
     "output_type": "execute_result"
    }
   ],
   "source": [
    "import pandas as pd\n",
    "data=pd.read_csv('data/AcadamicAchievementPrediction.csv')\n",
    "data.head()\n"
   ]
  },
  {
   "cell_type": "code",
   "execution_count": 16,
   "metadata": {},
   "outputs": [
    {
     "data": {
      "text/html": [
       "<div>\n",
       "<style scoped>\n",
       "    .dataframe tbody tr th:only-of-type {\n",
       "        vertical-align: middle;\n",
       "    }\n",
       "\n",
       "    .dataframe tbody tr th {\n",
       "        vertical-align: top;\n",
       "    }\n",
       "\n",
       "    .dataframe thead th {\n",
       "        text-align: right;\n",
       "    }\n",
       "</style>\n",
       "<table border=\"1\" class=\"dataframe\">\n",
       "  <thead>\n",
       "    <tr style=\"text-align: right;\">\n",
       "      <th></th>\n",
       "      <th>Age</th>\n",
       "      <th>BirthYear</th>\n",
       "    </tr>\n",
       "  </thead>\n",
       "  <tbody>\n",
       "    <tr>\n",
       "      <th>count</th>\n",
       "      <td>155.000000</td>\n",
       "      <td>156.000000</td>\n",
       "    </tr>\n",
       "    <tr>\n",
       "      <th>mean</th>\n",
       "      <td>28.690323</td>\n",
       "      <td>1989.044872</td>\n",
       "    </tr>\n",
       "    <tr>\n",
       "      <th>std</th>\n",
       "      <td>9.794358</td>\n",
       "      <td>10.144977</td>\n",
       "    </tr>\n",
       "    <tr>\n",
       "      <th>min</th>\n",
       "      <td>0.000000</td>\n",
       "      <td>1954.000000</td>\n",
       "    </tr>\n",
       "    <tr>\n",
       "      <th>25%</th>\n",
       "      <td>20.000000</td>\n",
       "      <td>1979.000000</td>\n",
       "    </tr>\n",
       "    <tr>\n",
       "      <th>50%</th>\n",
       "      <td>25.000000</td>\n",
       "      <td>1991.000000</td>\n",
       "    </tr>\n",
       "    <tr>\n",
       "      <th>75%</th>\n",
       "      <td>39.000000</td>\n",
       "      <td>1998.000000</td>\n",
       "    </tr>\n",
       "    <tr>\n",
       "      <th>max</th>\n",
       "      <td>51.000000</td>\n",
       "      <td>2018.000000</td>\n",
       "    </tr>\n",
       "  </tbody>\n",
       "</table>\n",
       "</div>"
      ],
      "text/plain": [
       "              Age    BirthYear\n",
       "count  155.000000   156.000000\n",
       "mean    28.690323  1989.044872\n",
       "std      9.794358    10.144977\n",
       "min      0.000000  1954.000000\n",
       "25%     20.000000  1979.000000\n",
       "50%     25.000000  1991.000000\n",
       "75%     39.000000  1998.000000\n",
       "max     51.000000  2018.000000"
      ]
     },
     "execution_count": 16,
     "metadata": {},
     "output_type": "execute_result"
    }
   ],
   "source": [
    "data.describe()"
   ]
  },
  {
   "cell_type": "code",
   "execution_count": 21,
   "metadata": {},
   "outputs": [
    {
     "name": "stdout",
     "output_type": "stream",
     "text": [
      "Mean\n"
     ]
    },
    {
     "data": {
      "text/plain": [
       "28.690322580645162"
      ]
     },
     "execution_count": 21,
     "metadata": {},
     "output_type": "execute_result"
    }
   ],
   "source": [
    "print('Mean')\n",
    "data['Age'].mean()"
   ]
  },
  {
   "cell_type": "code",
   "execution_count": 22,
   "metadata": {},
   "outputs": [
    {
     "name": "stdout",
     "output_type": "stream",
     "text": [
      "Midian\n"
     ]
    },
    {
     "data": {
      "text/plain": [
       "25.0"
      ]
     },
     "execution_count": 22,
     "metadata": {},
     "output_type": "execute_result"
    }
   ],
   "source": [
    "print('Midian')\n",
    "data['Age'].median()"
   ]
  },
  {
   "cell_type": "code",
   "execution_count": 23,
   "metadata": {},
   "outputs": [
    {
     "name": "stdout",
     "output_type": "stream",
     "text": [
      "Standard Deviation\n"
     ]
    },
    {
     "data": {
      "text/plain": [
       "9.79435813077954"
      ]
     },
     "execution_count": 23,
     "metadata": {},
     "output_type": "execute_result"
    }
   ],
   "source": [
    "print('Standard Deviation')\n",
    "data['Age'].std()"
   ]
  },
  {
   "cell_type": "code",
   "execution_count": 22,
   "metadata": {},
   "outputs": [
    {
     "name": "stdout",
     "output_type": "stream",
     "text": [
      "Age Range\n",
      "Range 12.0 - 51.0\n"
     ]
    }
   ],
   "source": [
    "print('Age Range')\n",
    "max_age=data['Age'].max()\n",
    "data['Age'].replace(0,data['Age'].mean(),inplace=True)\n",
    "min_age=data['Age'].min()\n",
    "print('Range',min_age ,'-',max_age)"
   ]
  },
  {
   "cell_type": "markdown",
   "metadata": {},
   "source": [
    "## 2.\tWhich one is the frequent name in the data "
   ]
  },
  {
   "cell_type": "code",
   "execution_count": 8,
   "metadata": {},
   "outputs": [
    {
     "data": {
      "text/plain": [
       "0    xb\n",
       "1    xc\n",
       "2    xy\n",
       "dtype: object"
      ]
     },
     "execution_count": 8,
     "metadata": {},
     "output_type": "execute_result"
    }
   ],
   "source": [
    "data['Name'].mode()"
   ]
  },
  {
   "cell_type": "markdown",
   "metadata": {},
   "source": [
    "xy is most frequent name"
   ]
  },
  {
   "cell_type": "code",
   "execution_count": null,
   "metadata": {},
   "outputs": [],
   "source": []
  }
 ],
 "metadata": {
  "kernelspec": {
   "display_name": "Python 3",
   "language": "python",
   "name": "python3"
  },
  "language_info": {
   "codemirror_mode": {
    "name": "ipython",
    "version": 3
   },
   "file_extension": ".py",
   "mimetype": "text/x-python",
   "name": "python",
   "nbconvert_exporter": "python",
   "pygments_lexer": "ipython3",
   "version": "3.7.7"
  }
 },
 "nbformat": 4,
 "nbformat_minor": 4
}
