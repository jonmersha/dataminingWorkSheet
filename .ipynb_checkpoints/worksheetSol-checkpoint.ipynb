{
 "cells": [
  {
   "cell_type": "markdown",
   "metadata": {},
   "source": [
    "# Data Acquisition Phase"
   ]
  },
  {
   "cell_type": "markdown",
   "metadata": {},
   "source": [
    "### 1.\tExtract all tweets about any selected hot topic from tweeter and save it in a csv file. The tweet must contain the following information (tweet id, tweet time, tweet author, tweet text). "
   ]
  },
  {
   "cell_type": "code",
   "execution_count": 3,
   "metadata": {},
   "outputs": [
    {
     "data": {
      "text/html": [
       "<div>\n",
       "<style scoped>\n",
       "    .dataframe tbody tr th:only-of-type {\n",
       "        vertical-align: middle;\n",
       "    }\n",
       "\n",
       "    .dataframe tbody tr th {\n",
       "        vertical-align: top;\n",
       "    }\n",
       "\n",
       "    .dataframe thead th {\n",
       "        text-align: right;\n",
       "    }\n",
       "</style>\n",
       "<table border=\"1\" class=\"dataframe\">\n",
       "  <thead>\n",
       "    <tr style=\"text-align: right;\">\n",
       "      <th></th>\n",
       "      <th>Unnamed: 0</th>\n",
       "      <th>Tweet Id</th>\n",
       "      <th>Text</th>\n",
       "      <th>Name</th>\n",
       "      <th>Screen Name</th>\n",
       "      <th>UTC</th>\n",
       "      <th>Created At</th>\n",
       "      <th>Favorites</th>\n",
       "      <th>Retweets</th>\n",
       "      <th>Language</th>\n",
       "      <th>Client</th>\n",
       "      <th>Tweet Type</th>\n",
       "      <th>Media Type</th>\n",
       "      <th>Media URLs</th>\n",
       "      <th>URLs</th>\n",
       "      <th>Hashtags</th>\n",
       "      <th>Mentions</th>\n",
       "    </tr>\n",
       "  </thead>\n",
       "  <tbody>\n",
       "    <tr>\n",
       "      <th>0</th>\n",
       "      <td>0</td>\n",
       "      <td>1266611922150895616</td>\n",
       "      <td>RT @ugc_india : #UGC requests HEIs &amp;amp; State...</td>\n",
       "      <td>RBVRR Women's College</td>\n",
       "      <td>Rbvrrwc</td>\n",
       "      <td>2020-05-30T06:06:29.000Z</td>\n",
       "      <td>Sat May 30 06:06:29 +0000 2020</td>\n",
       "      <td>0</td>\n",
       "      <td>0</td>\n",
       "      <td>en</td>\n",
       "      <td>&lt;a href=\"https://mobile.twitter.com\" rel=\"nofo...</td>\n",
       "      <td>Retweet</td>\n",
       "      <td>Photo</td>\n",
       "      <td>https://pbs.twimg.com/media/EZHO8YnVAAIWxPC.jp...</td>\n",
       "      <td>0</td>\n",
       "      <td>3</td>\n",
       "      <td>6</td>\n",
       "    </tr>\n",
       "    <tr>\n",
       "      <th>1</th>\n",
       "      <td>1</td>\n",
       "      <td>1266611904107040770</td>\n",
       "      <td>RT @sofyvaldivia : Ⓜ️Vecinos del Gimnasio Muni...</td>\n",
       "      <td>Frankk_35</td>\n",
       "      <td>construred_oax</td>\n",
       "      <td>2020-05-30T06:06:25.000Z</td>\n",
       "      <td>Sat May 30 06:06:25 +0000 2020</td>\n",
       "      <td>0</td>\n",
       "      <td>0</td>\n",
       "      <td>es</td>\n",
       "      <td>&lt;a href=\"http://twitter.com/download/iphone\" r...</td>\n",
       "      <td>Retweet</td>\n",
       "      <td>Video</td>\n",
       "      <td>https://video.twimg.com/ext_tw_video/126659117...</td>\n",
       "      <td>0</td>\n",
       "      <td>1</td>\n",
       "      <td>2</td>\n",
       "    </tr>\n",
       "    <tr>\n",
       "      <th>2</th>\n",
       "      <td>2</td>\n",
       "      <td>1266611713388040197</td>\n",
       "      <td>RT @Pinchez81533825 : @GhettoRadio895 @DjDaboT...</td>\n",
       "      <td>Dj Double Trouble</td>\n",
       "      <td>DjDaboTrabo</td>\n",
       "      <td>2020-05-30T06:05:39.000Z</td>\n",
       "      <td>Sat May 30 06:05:39 +0000 2020</td>\n",
       "      <td>0</td>\n",
       "      <td>0</td>\n",
       "      <td>en</td>\n",
       "      <td>&lt;a href=\"http://twitter.com/download/android\" ...</td>\n",
       "      <td>Retweet</td>\n",
       "      <td>NaN</td>\n",
       "      <td>NaN</td>\n",
       "      <td>0</td>\n",
       "      <td>1</td>\n",
       "      <td>3</td>\n",
       "    </tr>\n",
       "    <tr>\n",
       "      <th>3</th>\n",
       "      <td>3</td>\n",
       "      <td>1266611711055933440</td>\n",
       "      <td>RT @unwomenasia : “Promoting gender equality i...</td>\n",
       "      <td>Marsella Lee</td>\n",
       "      <td>sellalalee</td>\n",
       "      <td>2020-05-30T06:05:39.000Z</td>\n",
       "      <td>Sat May 30 06:05:39 +0000 2020</td>\n",
       "      <td>0</td>\n",
       "      <td>0</td>\n",
       "      <td>en</td>\n",
       "      <td>&lt;a href=\"http://twitter.com/download/android\" ...</td>\n",
       "      <td>Retweet</td>\n",
       "      <td>NaN</td>\n",
       "      <td>NaN</td>\n",
       "      <td>1</td>\n",
       "      <td>2</td>\n",
       "      <td>1</td>\n",
       "    </tr>\n",
       "    <tr>\n",
       "      <th>4</th>\n",
       "      <td>4</td>\n",
       "      <td>1266611707650224128</td>\n",
       "      <td>RT @philmoi : Mon ami Pharmacien confirme le R...</td>\n",
       "      <td>micmousse</td>\n",
       "      <td>micmousse18</td>\n",
       "      <td>2020-05-30T06:05:38.000Z</td>\n",
       "      <td>Sat May 30 06:05:38 +0000 2020</td>\n",
       "      <td>0</td>\n",
       "      <td>0</td>\n",
       "      <td>fr</td>\n",
       "      <td>&lt;a href=\"https://mobile.twitter.com\" rel=\"nofo...</td>\n",
       "      <td>Retweet</td>\n",
       "      <td>NaN</td>\n",
       "      <td>NaN</td>\n",
       "      <td>1</td>\n",
       "      <td>2</td>\n",
       "      <td>1</td>\n",
       "    </tr>\n",
       "  </tbody>\n",
       "</table>\n",
       "</div>"
      ],
      "text/plain": [
       "   Unnamed: 0             Tweet Id  \\\n",
       "0           0  1266611922150895616   \n",
       "1           1  1266611904107040770   \n",
       "2           2  1266611713388040197   \n",
       "3           3  1266611711055933440   \n",
       "4           4  1266611707650224128   \n",
       "\n",
       "                                                Text                   Name  \\\n",
       "0  RT @ugc_india : #UGC requests HEIs &amp; State...  RBVRR Women's College   \n",
       "1  RT @sofyvaldivia : Ⓜ️Vecinos del Gimnasio Muni...              Frankk_35   \n",
       "2  RT @Pinchez81533825 : @GhettoRadio895 @DjDaboT...      Dj Double Trouble   \n",
       "3  RT @unwomenasia : “Promoting gender equality i...           Marsella Lee   \n",
       "4  RT @philmoi : Mon ami Pharmacien confirme le R...              micmousse   \n",
       "\n",
       "      Screen Name                       UTC                      Created At  \\\n",
       "0         Rbvrrwc  2020-05-30T06:06:29.000Z  Sat May 30 06:06:29 +0000 2020   \n",
       "1  construred_oax  2020-05-30T06:06:25.000Z  Sat May 30 06:06:25 +0000 2020   \n",
       "2     DjDaboTrabo  2020-05-30T06:05:39.000Z  Sat May 30 06:05:39 +0000 2020   \n",
       "3      sellalalee  2020-05-30T06:05:39.000Z  Sat May 30 06:05:39 +0000 2020   \n",
       "4     micmousse18  2020-05-30T06:05:38.000Z  Sat May 30 06:05:38 +0000 2020   \n",
       "\n",
       "   Favorites  Retweets Language  \\\n",
       "0          0         0       en   \n",
       "1          0         0       es   \n",
       "2          0         0       en   \n",
       "3          0         0       en   \n",
       "4          0         0       fr   \n",
       "\n",
       "                                              Client Tweet Type Media Type  \\\n",
       "0  <a href=\"https://mobile.twitter.com\" rel=\"nofo...    Retweet      Photo   \n",
       "1  <a href=\"http://twitter.com/download/iphone\" r...    Retweet      Video   \n",
       "2  <a href=\"http://twitter.com/download/android\" ...    Retweet        NaN   \n",
       "3  <a href=\"http://twitter.com/download/android\" ...    Retweet        NaN   \n",
       "4  <a href=\"https://mobile.twitter.com\" rel=\"nofo...    Retweet        NaN   \n",
       "\n",
       "                                          Media URLs  URLs  Hashtags  Mentions  \n",
       "0  https://pbs.twimg.com/media/EZHO8YnVAAIWxPC.jp...     0         3         6  \n",
       "1  https://video.twimg.com/ext_tw_video/126659117...     0         1         2  \n",
       "2                                                NaN     0         1         3  \n",
       "3                                                NaN     1         2         1  \n",
       "4                                                NaN     1         2         1  "
      ]
     },
     "execution_count": 3,
     "metadata": {},
     "output_type": "execute_result"
    }
   ],
   "source": [
    "import pandas as pd\n",
    "df=pd.read_csv('data/covid19.csv')\n",
    "df.head()"
   ]
  },
  {
   "cell_type": "markdown",
   "metadata": {},
   "source": [
    "2.\tExtract all tweets about Jimma University from tweeter and save it in a csv file. The tweet must contain the following information (tweet id, tweet time, tweet author, tweet text). \n",
    "\n",
    "\n"
   ]
  },
  {
   "cell_type": "code",
   "execution_count": null,
   "metadata": {},
   "outputs": [],
   "source": []
  },
  {
   "cell_type": "markdown",
   "metadata": {},
   "source": [
    "### 3.\tExtract all posts about any selected hot topic from Facebook and save it in a csv file. The post must contain the following information (post id, author, text, number of likes). "
   ]
  },
  {
   "cell_type": "code",
   "execution_count": 10,
   "metadata": {},
   "outputs": [
    {
     "name": "stdout",
     "output_type": "stream",
     "text": [
      "   Unnamed: 0                                                url text  \\\n",
      "0           0  /story.php?story_fbid=2946046748766270&id=1000...   []   \n",
      "1           1  /story.php?story_fbid=2943539265683685&id=1000...   []   \n",
      "2           2  /photo.php?fbid=2923349841035961&id=1000008292...   []   \n",
      "3           3  /photo.php?fbid=2923344097703202&id=1000008292...   []   \n",
      "4           4  /story.php?story_fbid=2923180484386230&id=1000...   []   \n",
      "\n",
      "                                           media_url comments likes  \n",
      "0  /Yohannescoop?fref=nf&refid=52&_ft_=mf_story_k...       []    []  \n",
      "1                                                NaN       []    []  \n",
      "2                                                NaN       []    []  \n",
      "3                                                NaN       []    []  \n",
      "4  /Yohannescoop?fref=nf&refid=52&_ft_=mf_story_k...       []    []  \n",
      "200\n"
     ]
    },
    {
     "data": {
      "text/plain": [
       "(200, 6)"
      ]
     },
     "execution_count": 10,
     "metadata": {},
     "output_type": "execute_result"
    }
   ],
   "source": [
    "fb_post_df=pd.read_csv('data/facebook_post.csv')\n",
    "print(fb_post_df.head())\n",
    "print(len(fb_post_df))\n",
    "fb_post_df.shape"
   ]
  },
  {
   "cell_type": "markdown",
   "metadata": {},
   "source": [
    "### 4.\tExtract the first paragraph for 100 Wikipedia articles from Wikipedia and represent in a term by document matrix\n",
    "    PIP install shorttext\n",
    "    pip install wekipedia"
   ]
  },
  {
   "cell_type": "markdown",
   "metadata": {},
   "source": [
    "# import shorttext\n",
    "# import numpy as np\n",
    "# import pandas as pd\n",
    "# from stemming.porter import stem\n",
    " \n",
    "# import re"
   ]
  },
  {
   "cell_type": "markdown",
   "metadata": {},
   "source": [
    "# B.\tData Preparation Phase\n",
    "### Use the AcadamicAchievement.csv file to answer the following questions "
   ]
  },
  {
   "cell_type": "markdown",
   "metadata": {},
   "source": [
    "#### 1. From the Age attribute, compute the  \n",
    "    a.\tMean \n",
    "    b.\tMedia \n",
    "    c.\tStandard deviation \n",
    "    d.\tRange "
   ]
  },
  {
   "cell_type": "code",
   "execution_count": 41,
   "metadata": {},
   "outputs": [
    {
     "data": {
      "text/html": [
       "<div>\n",
       "<style scoped>\n",
       "    .dataframe tbody tr th:only-of-type {\n",
       "        vertical-align: middle;\n",
       "    }\n",
       "\n",
       "    .dataframe tbody tr th {\n",
       "        vertical-align: top;\n",
       "    }\n",
       "\n",
       "    .dataframe thead th {\n",
       "        text-align: right;\n",
       "    }\n",
       "</style>\n",
       "<table border=\"1\" class=\"dataframe\">\n",
       "  <thead>\n",
       "    <tr style=\"text-align: right;\">\n",
       "      <th></th>\n",
       "      <th>Name</th>\n",
       "      <th>Age</th>\n",
       "      <th>Sex</th>\n",
       "      <th>BirthYear</th>\n",
       "      <th>Achivement</th>\n",
       "    </tr>\n",
       "  </thead>\n",
       "  <tbody>\n",
       "    <tr>\n",
       "      <th>0</th>\n",
       "      <td>xx</td>\n",
       "      <td>34.0</td>\n",
       "      <td>Female</td>\n",
       "      <td>1984.0</td>\n",
       "      <td>Low</td>\n",
       "    </tr>\n",
       "    <tr>\n",
       "      <th>1</th>\n",
       "      <td>xy</td>\n",
       "      <td>20.0</td>\n",
       "      <td>Male</td>\n",
       "      <td>1998.0</td>\n",
       "      <td>Low</td>\n",
       "    </tr>\n",
       "    <tr>\n",
       "      <th>2</th>\n",
       "      <td>xz</td>\n",
       "      <td>39.0</td>\n",
       "      <td>Male</td>\n",
       "      <td>1979.0</td>\n",
       "      <td>High</td>\n",
       "    </tr>\n",
       "    <tr>\n",
       "      <th>3</th>\n",
       "      <td>xa</td>\n",
       "      <td>20.0</td>\n",
       "      <td>Female</td>\n",
       "      <td>1998.0</td>\n",
       "      <td>Low</td>\n",
       "    </tr>\n",
       "    <tr>\n",
       "      <th>4</th>\n",
       "      <td>xb</td>\n",
       "      <td>21.0</td>\n",
       "      <td>Male</td>\n",
       "      <td>1991.0</td>\n",
       "      <td>Low</td>\n",
       "    </tr>\n",
       "  </tbody>\n",
       "</table>\n",
       "</div>"
      ],
      "text/plain": [
       "  Name   Age     Sex  BirthYear Achivement\n",
       "0   xx  34.0  Female     1984.0        Low\n",
       "1   xy  20.0    Male     1998.0        Low\n",
       "2   xz  39.0    Male     1979.0       High\n",
       "3   xa  20.0  Female     1998.0        Low\n",
       "4   xb  21.0    Male     1991.0        Low"
      ]
     },
     "execution_count": 41,
     "metadata": {},
     "output_type": "execute_result"
    }
   ],
   "source": [
    "import pandas as pd\n",
    "data=pd.read_csv('data/AcadamicAchievementPrediction.csv')\n",
    "data.head()\n"
   ]
  },
  {
   "cell_type": "code",
   "execution_count": 16,
   "metadata": {},
   "outputs": [
    {
     "data": {
      "text/html": [
       "<div>\n",
       "<style scoped>\n",
       "    .dataframe tbody tr th:only-of-type {\n",
       "        vertical-align: middle;\n",
       "    }\n",
       "\n",
       "    .dataframe tbody tr th {\n",
       "        vertical-align: top;\n",
       "    }\n",
       "\n",
       "    .dataframe thead th {\n",
       "        text-align: right;\n",
       "    }\n",
       "</style>\n",
       "<table border=\"1\" class=\"dataframe\">\n",
       "  <thead>\n",
       "    <tr style=\"text-align: right;\">\n",
       "      <th></th>\n",
       "      <th>Age</th>\n",
       "      <th>BirthYear</th>\n",
       "    </tr>\n",
       "  </thead>\n",
       "  <tbody>\n",
       "    <tr>\n",
       "      <th>count</th>\n",
       "      <td>155.000000</td>\n",
       "      <td>156.000000</td>\n",
       "    </tr>\n",
       "    <tr>\n",
       "      <th>mean</th>\n",
       "      <td>28.690323</td>\n",
       "      <td>1989.044872</td>\n",
       "    </tr>\n",
       "    <tr>\n",
       "      <th>std</th>\n",
       "      <td>9.794358</td>\n",
       "      <td>10.144977</td>\n",
       "    </tr>\n",
       "    <tr>\n",
       "      <th>min</th>\n",
       "      <td>0.000000</td>\n",
       "      <td>1954.000000</td>\n",
       "    </tr>\n",
       "    <tr>\n",
       "      <th>25%</th>\n",
       "      <td>20.000000</td>\n",
       "      <td>1979.000000</td>\n",
       "    </tr>\n",
       "    <tr>\n",
       "      <th>50%</th>\n",
       "      <td>25.000000</td>\n",
       "      <td>1991.000000</td>\n",
       "    </tr>\n",
       "    <tr>\n",
       "      <th>75%</th>\n",
       "      <td>39.000000</td>\n",
       "      <td>1998.000000</td>\n",
       "    </tr>\n",
       "    <tr>\n",
       "      <th>max</th>\n",
       "      <td>51.000000</td>\n",
       "      <td>2018.000000</td>\n",
       "    </tr>\n",
       "  </tbody>\n",
       "</table>\n",
       "</div>"
      ],
      "text/plain": [
       "              Age    BirthYear\n",
       "count  155.000000   156.000000\n",
       "mean    28.690323  1989.044872\n",
       "std      9.794358    10.144977\n",
       "min      0.000000  1954.000000\n",
       "25%     20.000000  1979.000000\n",
       "50%     25.000000  1991.000000\n",
       "75%     39.000000  1998.000000\n",
       "max     51.000000  2018.000000"
      ]
     },
     "execution_count": 16,
     "metadata": {},
     "output_type": "execute_result"
    }
   ],
   "source": [
    "data.describe()"
   ]
  },
  {
   "cell_type": "code",
   "execution_count": 21,
   "metadata": {},
   "outputs": [
    {
     "name": "stdout",
     "output_type": "stream",
     "text": [
      "Mean\n"
     ]
    },
    {
     "data": {
      "text/plain": [
       "28.690322580645162"
      ]
     },
     "execution_count": 21,
     "metadata": {},
     "output_type": "execute_result"
    }
   ],
   "source": [
    "print('Mean')\n",
    "data['Age'].mean()"
   ]
  },
  {
   "cell_type": "code",
   "execution_count": 22,
   "metadata": {},
   "outputs": [
    {
     "name": "stdout",
     "output_type": "stream",
     "text": [
      "Midian\n"
     ]
    },
    {
     "data": {
      "text/plain": [
       "25.0"
      ]
     },
     "execution_count": 22,
     "metadata": {},
     "output_type": "execute_result"
    }
   ],
   "source": [
    "print('Midian')\n",
    "data['Age'].median()"
   ]
  },
  {
   "cell_type": "code",
   "execution_count": 23,
   "metadata": {},
   "outputs": [
    {
     "name": "stdout",
     "output_type": "stream",
     "text": [
      "Standard Deviation\n"
     ]
    },
    {
     "data": {
      "text/plain": [
       "9.79435813077954"
      ]
     },
     "execution_count": 23,
     "metadata": {},
     "output_type": "execute_result"
    }
   ],
   "source": [
    "print('Standard Deviation')\n",
    "data['Age'].std()"
   ]
  },
  {
   "cell_type": "code",
   "execution_count": 22,
   "metadata": {},
   "outputs": [
    {
     "name": "stdout",
     "output_type": "stream",
     "text": [
      "Age Range\n",
      "Range 12.0 - 51.0\n"
     ]
    }
   ],
   "source": [
    "print('Age Range')\n",
    "max_age=data['Age'].max()\n",
    "data['Age'].replace(0,data['Age'].mean(),inplace=True)\n",
    "min_age=data['Age'].min()\n",
    "print('Range',min_age ,'-',max_age)"
   ]
  },
  {
   "cell_type": "markdown",
   "metadata": {},
   "source": [
    "## 2.\tWhich one is the frequent name in the data "
   ]
  },
  {
   "cell_type": "code",
   "execution_count": 8,
   "metadata": {},
   "outputs": [
    {
     "data": {
      "text/plain": [
       "0    xb\n",
       "1    xc\n",
       "2    xy\n",
       "dtype: object"
      ]
     },
     "execution_count": 8,
     "metadata": {},
     "output_type": "execute_result"
    }
   ],
   "source": [
    "data['Name'].mode()"
   ]
  },
  {
   "cell_type": "markdown",
   "metadata": {},
   "source": [
    "xy is most frequent name"
   ]
  },
  {
   "cell_type": "markdown",
   "metadata": {},
   "source": [
    "### 3.\tComplete missing age values either by inference or mean of age"
   ]
  },
  {
   "cell_type": "markdown",
   "metadata": {},
   "source": [
    "replacing missing values by mean method"
   ]
  },
  {
   "cell_type": "code",
   "execution_count": 31,
   "metadata": {},
   "outputs": [],
   "source": [
    "\n",
    "data['Age'].fillna(data['Age'].mean(),inplace=True)\n"
   ]
  },
  {
   "cell_type": "markdown",
   "metadata": {},
   "source": [
    "### 4.\tIdentify noisy values from Sex attribute and fill it with the most frequent value"
   ]
  },
  {
   "cell_type": "code",
   "execution_count": 36,
   "metadata": {},
   "outputs": [
    {
     "data": {
      "text/plain": [
       "array(['Female', 'Male', 'm', 'F'], dtype=object)"
      ]
     },
     "execution_count": 36,
     "metadata": {},
     "output_type": "execute_result"
    }
   ],
   "source": [
    "data.Sex.unique()"
   ]
  },
  {
   "cell_type": "code",
   "execution_count": 45,
   "metadata": {},
   "outputs": [],
   "source": [
    "data.Sex.replace('F',\"Female\",inplace=True)\n",
    "data.Sex.replace('m',\"Male\",inplace=True)"
   ]
  },
  {
   "cell_type": "code",
   "execution_count": 46,
   "metadata": {},
   "outputs": [
    {
     "data": {
      "text/plain": [
       "array(['Female', 'Male'], dtype=object)"
      ]
     },
     "execution_count": 46,
     "metadata": {},
     "output_type": "execute_result"
    }
   ],
   "source": [
    "data.Sex.unique()"
   ]
  },
  {
   "cell_type": "markdown",
   "metadata": {},
   "source": [
    "### 5.\tIdentify noisy values from Age attribute and fill with an appropriate value"
   ]
  },
  {
   "cell_type": "code",
   "execution_count": null,
   "metadata": {},
   "outputs": [],
   "source": []
  },
  {
   "cell_type": "markdown",
   "metadata": {},
   "source": [
    "### 6.\tDetect outlier from Age attribute and fill with an appropriate value"
   ]
  },
  {
   "cell_type": "code",
   "execution_count": null,
   "metadata": {},
   "outputs": [],
   "source": []
  },
  {
   "cell_type": "markdown",
   "metadata": {},
   "source": [
    "### 7.\tSince, the data is combined from multiple sources there is inconsistencies in the usage of terminologies for some attributes. For instance, the value for sex attribute is sometimes given as F, Female, Male, M. Convert this values into a consistent naming. "
   ]
  },
  {
   "cell_type": "code",
   "execution_count": null,
   "metadata": {},
   "outputs": [],
   "source": []
  },
  {
   "cell_type": "markdown",
   "metadata": {},
   "source": [
    "### 8.\tRead the YearAchivement and SexAge csv files separately"
   ]
  },
  {
   "cell_type": "code",
   "execution_count": 51,
   "metadata": {},
   "outputs": [
    {
     "name": "stdout",
     "output_type": "stream",
     "text": [
      "year achievemnt   Name  BirthYear Achivement\n",
      "0   xx     1984.0        Low\n",
      "1   xy     1998.0        Low\n",
      "2   xz     1979.0       High\n",
      "3   xa     1998.0        Low\n",
      "4   xb     1991.0        Low\n",
      "Gender and age   Name   Age     Sex\n",
      "0   xx  34.0  Female\n",
      "1   xy  20.0    Male\n",
      "2   xz  39.0    Male\n",
      "3   xa  20.0  Female\n",
      "4   xb  21.0    Male\n"
     ]
    }
   ],
   "source": [
    "import pandas as pd\n",
    "year_achievement=pd.read_csv('data/YearAchievement.csv')\n",
    "sex_age=pd.read_csv('data/SexAge.csv')\n",
    "\n",
    "print('year achievemnt',year_achievement.head())\n",
    "print('Gender and age',sex_age.head())\n",
    "\n"
   ]
  },
  {
   "cell_type": "markdown",
   "metadata": {},
   "source": [
    "### 9.\tExtract the first three rows from the YearAchivement.csv file"
   ]
  },
  {
   "cell_type": "code",
   "execution_count": 53,
   "metadata": {},
   "outputs": [
    {
     "data": {
      "text/html": [
       "<div>\n",
       "<style scoped>\n",
       "    .dataframe tbody tr th:only-of-type {\n",
       "        vertical-align: middle;\n",
       "    }\n",
       "\n",
       "    .dataframe tbody tr th {\n",
       "        vertical-align: top;\n",
       "    }\n",
       "\n",
       "    .dataframe thead th {\n",
       "        text-align: right;\n",
       "    }\n",
       "</style>\n",
       "<table border=\"1\" class=\"dataframe\">\n",
       "  <thead>\n",
       "    <tr style=\"text-align: right;\">\n",
       "      <th></th>\n",
       "      <th>Name</th>\n",
       "      <th>BirthYear</th>\n",
       "      <th>Achivement</th>\n",
       "    </tr>\n",
       "  </thead>\n",
       "  <tbody>\n",
       "    <tr>\n",
       "      <th>0</th>\n",
       "      <td>xx</td>\n",
       "      <td>1984.0</td>\n",
       "      <td>Low</td>\n",
       "    </tr>\n",
       "    <tr>\n",
       "      <th>1</th>\n",
       "      <td>xy</td>\n",
       "      <td>1998.0</td>\n",
       "      <td>Low</td>\n",
       "    </tr>\n",
       "    <tr>\n",
       "      <th>2</th>\n",
       "      <td>xz</td>\n",
       "      <td>1979.0</td>\n",
       "      <td>High</td>\n",
       "    </tr>\n",
       "  </tbody>\n",
       "</table>\n",
       "</div>"
      ],
      "text/plain": [
       "  Name  BirthYear Achivement\n",
       "0   xx     1984.0        Low\n",
       "1   xy     1998.0        Low\n",
       "2   xz     1979.0       High"
      ]
     },
     "execution_count": 53,
     "metadata": {},
     "output_type": "execute_result"
    }
   ],
   "source": [
    "# using iloc\n",
    "three_rows_yrac=year_achievement.iloc[:3]\n",
    "three_rows_yrac\n",
    "\n",
    "\n"
   ]
  },
  {
   "cell_type": "code",
   "execution_count": 54,
   "metadata": {},
   "outputs": [
    {
     "data": {
      "text/html": [
       "<div>\n",
       "<style scoped>\n",
       "    .dataframe tbody tr th:only-of-type {\n",
       "        vertical-align: middle;\n",
       "    }\n",
       "\n",
       "    .dataframe tbody tr th {\n",
       "        vertical-align: top;\n",
       "    }\n",
       "\n",
       "    .dataframe thead th {\n",
       "        text-align: right;\n",
       "    }\n",
       "</style>\n",
       "<table border=\"1\" class=\"dataframe\">\n",
       "  <thead>\n",
       "    <tr style=\"text-align: right;\">\n",
       "      <th></th>\n",
       "      <th>Name</th>\n",
       "      <th>BirthYear</th>\n",
       "      <th>Achivement</th>\n",
       "    </tr>\n",
       "  </thead>\n",
       "  <tbody>\n",
       "    <tr>\n",
       "      <th>0</th>\n",
       "      <td>xx</td>\n",
       "      <td>1984.0</td>\n",
       "      <td>Low</td>\n",
       "    </tr>\n",
       "    <tr>\n",
       "      <th>1</th>\n",
       "      <td>xy</td>\n",
       "      <td>1998.0</td>\n",
       "      <td>Low</td>\n",
       "    </tr>\n",
       "    <tr>\n",
       "      <th>2</th>\n",
       "      <td>xz</td>\n",
       "      <td>1979.0</td>\n",
       "      <td>High</td>\n",
       "    </tr>\n",
       "  </tbody>\n",
       "</table>\n",
       "</div>"
      ],
      "text/plain": [
       "  Name  BirthYear Achivement\n",
       "0   xx     1984.0        Low\n",
       "1   xy     1998.0        Low\n",
       "2   xz     1979.0       High"
      ]
     },
     "execution_count": 54,
     "metadata": {},
     "output_type": "execute_result"
    }
   ],
   "source": [
    "# using head\n",
    "three_rows_yrac_head=year_achievement.head(3)\n",
    "three_rows_yrac_head"
   ]
  },
  {
   "cell_type": "markdown",
   "metadata": {},
   "source": [
    "### 10.\tExtract the  name column from the SexAge.csv file"
   ]
  },
  {
   "cell_type": "code",
   "execution_count": 57,
   "metadata": {},
   "outputs": [
    {
     "name": "stdout",
     "output_type": "stream",
     "text": [
      "Extracted Name Colomn 0    xx\n",
      "1    xy\n",
      "2    xz\n",
      "Name: Name, dtype: object\n"
     ]
    }
   ],
   "source": [
    "name_in_sex_age=sex_age.Name\n",
    "print('Extracted Name Colomn',name_in_sex_age.head(3))"
   ]
  },
  {
   "cell_type": "markdown",
   "metadata": {},
   "source": [
    "### 11.\tPlot a graph that can display the value of Age in SexAge. csv"
   ]
  },
  {
   "cell_type": "code",
   "execution_count": 94,
   "metadata": {},
   "outputs": [],
   "source": [
    "\n",
    "sex_age['Sex'].replace('m',\"Male\",inplace=True)\n",
    "sex_age['Sex'].replace('F',\"Female\",inplace=True)\n",
    "sex_age.Age.fillna(sex_age.Age.mean(),inplace=True)\n",
    "sex_age.Age.replace(0,sex_age.Age.mean(),inplace=True)\n"
   ]
  },
  {
   "cell_type": "code",
   "execution_count": 116,
   "metadata": {},
   "outputs": [
    {
     "data": {
      "text/plain": [
       "Sex\n",
       "Female    AxesSubplot(0.125,0.125;0.775x0.755)\n",
       "Male      AxesSubplot(0.125,0.125;0.775x0.755)\n",
       "Name: Age, dtype: object"
      ]
     },
     "execution_count": 116,
     "metadata": {},
     "output_type": "execute_result"
    },
    {
     "data": {
      "image/png": "[encoded data removed]",
      "text/plain": [
       "<Figure size 432x288 with 1 Axes>"
      ]
     },
     "metadata": {
      "needs_background": "light"
     },
     "output_type": "display_data"
    }
   ],
   "source": [
    "# sex_age.groupby(['Sex']).Age.plot(kind='bar',y='Age',x='Sex')\n",
    "# sex_age.plot(kind='bar',y='Age',x='Sex')\n",
    "sex_age.groupby('Sex').Age.plot(kind='bar',y='Age',x='Sex')\n"
   ]
  },
  {
   "cell_type": "code",
   "execution_count": 118,
   "metadata": {},
   "outputs": [
    {
     "data": {
      "text/plain": [
       "Sex\n",
       "Female    AxesSubplot(0.125,0.125;0.775x0.755)\n",
       "Male      AxesSubplot(0.125,0.125;0.775x0.755)\n",
       "Name: Age, dtype: object"
      ]
     },
     "execution_count": 118,
     "metadata": {},
     "output_type": "execute_result"
    },
    {
     "data": {
      "image/png": "[encoded data removed]",
      "text/plain": [
       "<Figure size 432x288 with 1 Axes>"
      ]
     },
     "metadata": {
      "needs_background": "light"
     },
     "output_type": "display_data"
    }
   ],
   "source": [
    "sex_age.groupby('Sex').Age.hist()"
   ]
  },
  {
   "cell_type": "code",
   "execution_count": 126,
   "metadata": {},
   "outputs": [
    {
     "data": {
      "text/plain": [
       "Sex\n",
       "Female    AxesSubplot(0.125,0.125;0.775x0.755)\n",
       "Male      AxesSubplot(0.125,0.125;0.775x0.755)\n",
       "dtype: object"
      ]
     },
     "execution_count": 126,
     "metadata": {},
     "output_type": "execute_result"
    },
    {
     "data": {
      "image/png": "[encoded data removed]",
      "text/plain": [
       "<Figure size 432x288 with 1 Axes>"
      ]
     },
     "metadata": {
      "needs_background": "light"
     },
     "output_type": "display_data"
    },
    {
     "data": {
      "image/png": "[encoded data removed]",
      "text/plain": [
       "<Figure size 432x288 with 1 Axes>"
      ]
     },
     "metadata": {
      "needs_background": "light"
     },
     "output_type": "display_data"
    }
   ],
   "source": [
    "sex_age.groupby(['Sex']).plot(kind='bar')\n"
   ]
  },
  {
   "cell_type": "markdown",
   "metadata": {},
   "source": [
    "### 12.\tMerge the two csv files with a file name merged"
   ]
  },
  {
   "cell_type": "code",
   "execution_count": 127,
   "metadata": {},
   "outputs": [
    {
     "name": "stdout",
     "output_type": "stream",
     "text": [
      "49 49\n"
     ]
    }
   ],
   "source": [
    "print(len(sex_age),len(year_achievement))"
   ]
  },
  {
   "cell_type": "code",
   "execution_count": 134,
   "metadata": {},
   "outputs": [
    {
     "name": "stdout",
     "output_type": "stream",
     "text": [
      "    Name  BirthYear Achivement\n",
      "0     xx     1984.0        Low\n",
      "1     xy     1998.0        Low\n",
      "2     xz     1979.0       High\n",
      "3     xa     1998.0        Low\n",
      "4     xb     1991.0        Low\n",
      "5     xc     1978.0        Low\n",
      "6     xd     1954.0       High\n",
      "7     xf     1984.0        Low\n",
      "8     xg     1998.0        Low\n",
      "9     xh     1979.0       High\n",
      "10    xi     1993.0       High\n",
      "11    xj     2000.0        Low\n",
      "12    xk     1978.0        Low\n",
      "13    xm     1984.0        Low\n",
      "14    xn     1998.0        Low\n",
      "15    xo     1979.0       High\n",
      "16    xp     1998.0       High\n",
      "17    xq     1997.0        Low\n",
      "18    xr     1978.0        Low\n",
      "19    xt     1984.0        Low\n",
      "20    xu     1999.0        Low\n",
      "21    xw     1979.0       High\n",
      "22    xy     1998.0       High\n",
      "23    xb     1997.0        Low\n",
      "24    xc     1978.0       High\n",
      "25    xx     1984.0        Low\n",
      "26    xy     1998.0        Low\n",
      "27    xz     1979.0       High\n",
      "28   xaa     1998.0       High\n",
      "29   xbb     1997.0        Low\n",
      "30   xcc     1978.0        Low\n",
      "31   xdd     2018.0       High\n",
      "32   xxa     1984.0        Low\n",
      "33   xyb     1998.0        Low\n",
      "34   xzc     1979.0       High\n",
      "35   xab     1998.0       High\n",
      "36   xbc     1997.0        Low\n",
      "37   xcz     1978.0        Low\n",
      "38   xxo     1984.0        Low\n",
      "39   xy1     1998.0        Low\n",
      "40   xz2     1979.0       High\n",
      "41   xa3     1998.0       High\n",
      "42  ccc1     1997.0        Low\n",
      "43  ccc2     1978.0       High\n",
      "44  ccc3        NaN       High\n",
      "45  ccc4     1984.0        Low\n",
      "46  ccc5     1998.0        Low\n",
      "47  ccc6     1979.0       High\n",
      "48  ccc7     1998.0       High\n"
     ]
    }
   ],
   "source": [
    "print(year_achievement)"
   ]
  },
  {
   "cell_type": "code",
   "execution_count": 133,
   "metadata": {},
   "outputs": [
    {
     "name": "stdout",
     "output_type": "stream",
     "text": [
      "   Name  BirthYear Achivement        Age     Sex\n",
      "0    xx     1984.0        Low  34.000000  Female\n",
      "1    xx     1984.0        Low  34.000000  Female\n",
      "2    xx     1984.0        Low  34.000000  Female\n",
      "3    xx     1984.0        Low  34.000000  Female\n",
      "4    xy     1998.0        Low  20.000000    Male\n",
      "5    xy     1998.0        Low  20.000000  Female\n",
      "6    xy     1998.0        Low  20.000000    Male\n",
      "7    xy     1998.0       High  20.000000    Male\n",
      "8    xy     1998.0       High  20.000000  Female\n",
      "9    xy     1998.0       High  20.000000    Male\n",
      "10   xy     1998.0        Low  20.000000    Male\n",
      "11   xy     1998.0        Low  20.000000  Female\n",
      "12   xy     1998.0        Low  20.000000    Male\n",
      "13   xz     1979.0       High  39.000000    Male\n",
      "14   xz     1979.0       High  39.000000    Male\n",
      "15   xz     1979.0       High  39.000000    Male\n",
      "16   xz     1979.0       High  39.000000    Male\n",
      "17   xa     1998.0        Low  20.000000  Female\n",
      "18   xb     1991.0        Low  21.000000    Male\n",
      "19   xb     1991.0        Low  21.000000    Male\n",
      "20   xb     1997.0        Low  21.000000    Male\n",
      "21   xb     1997.0        Low  21.000000    Male\n",
      "22   xc     1978.0        Low  40.000000  Female\n",
      "23   xc     1978.0        Low  40.000000  Female\n",
      "24   xc     1978.0       High  40.000000  Female\n",
      "25   xc     1978.0       High  40.000000  Female\n",
      "26   xd     1954.0       High  28.340426  Female\n",
      "27   xf     1984.0        Low  34.000000  Female\n",
      "28   xg     1998.0        Low  20.000000    Male\n",
      "29   xh     1979.0       High  39.000000    Male\n",
      "30   xi     1993.0       High  25.000000  Female\n",
      "31   xj     2000.0        Low  18.000000    Male\n",
      "32   xk     1978.0        Low  40.000000  Female\n",
      "33   xm     1984.0        Low  34.000000  Female\n",
      "34   xn     1998.0        Low  20.000000    Male\n",
      "35   xo     1979.0       High  39.000000    Male\n",
      "36   xp     1998.0       High  20.000000  Female\n",
      "37   xq     1997.0        Low  21.000000    Male\n",
      "38   xr     1978.0        Low  40.000000  Female\n",
      "39   xt     1984.0        Low  34.000000  Female\n",
      "40   xu     1999.0        Low  19.000000    Male\n",
      "41   xw     1979.0       High  39.000000    Male\n",
      "42  xaa     1998.0       High  20.000000  Female\n",
      "43  xbb     1997.0        Low  21.000000    Male\n",
      "44  xcc     1978.0        Low  40.000000  Female\n",
      "45  xdd     2018.0       High  28.340426  Female\n",
      "46  xxa     1984.0        Low  34.000000  Female\n",
      "47  xyb     1998.0        Low  20.000000    Male\n",
      "48  xzc     1979.0       High  39.000000    Male\n",
      "49  xab     1998.0       High  20.000000  Female\n",
      "50  xbc     1997.0        Low  21.000000    Male\n",
      "51  xcz     1978.0        Low  40.000000  Female\n",
      "52  xxo     1984.0        Low  34.000000  Female\n",
      "53  xy1     1998.0        Low  20.000000    Male\n",
      "54  xz2     1979.0       High  39.000000    Male\n",
      "55  xa3     1998.0       High  20.000000  Female\n"
     ]
    }
   ],
   "source": [
    "merged=pd.merge( year_achievement, sex_age)\n",
    "print(merged)"
   ]
  },
  {
   "cell_type": "markdown",
   "metadata": {},
   "source": [
    "### 13.\tCalculate the correlation between Age and BirthYear attributes from the merged data"
   ]
  },
  {
   "cell_type": "code",
   "execution_count": null,
   "metadata": {},
   "outputs": [],
   "source": []
  },
  {
   "cell_type": "markdown",
   "metadata": {},
   "source": [
    "### 14.\tReplace missing Age values with the mean age"
   ]
  },
  {
   "cell_type": "code",
   "execution_count": 135,
   "metadata": {},
   "outputs": [
    {
     "name": "stdout",
     "output_type": "stream",
     "text": [
      "   Name  BirthYear Achivement        Age     Sex\n",
      "0    xx     1984.0        Low  34.000000  Female\n",
      "1    xx     1984.0        Low  34.000000  Female\n",
      "2    xx     1984.0        Low  34.000000  Female\n",
      "3    xx     1984.0        Low  34.000000  Female\n",
      "4    xy     1998.0        Low  20.000000    Male\n",
      "5    xy     1998.0        Low  20.000000  Female\n",
      "6    xy     1998.0        Low  20.000000    Male\n",
      "7    xy     1998.0       High  20.000000    Male\n",
      "8    xy     1998.0       High  20.000000  Female\n",
      "9    xy     1998.0       High  20.000000    Male\n",
      "10   xy     1998.0        Low  20.000000    Male\n",
      "11   xy     1998.0        Low  20.000000  Female\n",
      "12   xy     1998.0        Low  20.000000    Male\n",
      "13   xz     1979.0       High  39.000000    Male\n",
      "14   xz     1979.0       High  39.000000    Male\n",
      "15   xz     1979.0       High  39.000000    Male\n",
      "16   xz     1979.0       High  39.000000    Male\n",
      "17   xa     1998.0        Low  20.000000  Female\n",
      "18   xb     1991.0        Low  21.000000    Male\n",
      "19   xb     1991.0        Low  21.000000    Male\n",
      "20   xb     1997.0        Low  21.000000    Male\n",
      "21   xb     1997.0        Low  21.000000    Male\n",
      "22   xc     1978.0        Low  40.000000  Female\n",
      "23   xc     1978.0        Low  40.000000  Female\n",
      "24   xc     1978.0       High  40.000000  Female\n",
      "25   xc     1978.0       High  40.000000  Female\n",
      "26   xd     1954.0       High  28.340426  Female\n",
      "27   xf     1984.0        Low  34.000000  Female\n",
      "28   xg     1998.0        Low  20.000000    Male\n",
      "29   xh     1979.0       High  39.000000    Male\n",
      "30   xi     1993.0       High  25.000000  Female\n",
      "31   xj     2000.0        Low  18.000000    Male\n",
      "32   xk     1978.0        Low  40.000000  Female\n",
      "33   xm     1984.0        Low  34.000000  Female\n",
      "34   xn     1998.0        Low  20.000000    Male\n",
      "35   xo     1979.0       High  39.000000    Male\n",
      "36   xp     1998.0       High  20.000000  Female\n",
      "37   xq     1997.0        Low  21.000000    Male\n",
      "38   xr     1978.0        Low  40.000000  Female\n",
      "39   xt     1984.0        Low  34.000000  Female\n",
      "40   xu     1999.0        Low  19.000000    Male\n",
      "41   xw     1979.0       High  39.000000    Male\n",
      "42  xaa     1998.0       High  20.000000  Female\n",
      "43  xbb     1997.0        Low  21.000000    Male\n",
      "44  xcc     1978.0        Low  40.000000  Female\n",
      "45  xdd     2018.0       High  28.340426  Female\n",
      "46  xxa     1984.0        Low  34.000000  Female\n",
      "47  xyb     1998.0        Low  20.000000    Male\n",
      "48  xzc     1979.0       High  39.000000    Male\n",
      "49  xab     1998.0       High  20.000000  Female\n",
      "50  xbc     1997.0        Low  21.000000    Male\n",
      "51  xcz     1978.0        Low  40.000000  Female\n",
      "52  xxo     1984.0        Low  34.000000  Female\n",
      "53  xy1     1998.0        Low  20.000000    Male\n",
      "54  xz2     1979.0       High  39.000000    Male\n",
      "55  xa3     1998.0       High  20.000000  Female\n"
     ]
    }
   ],
   "source": [
    "merged['Age'].fillna(merged['Age'].mean(),inplace=True)\n",
    "print(merged)"
   ]
  },
  {
   "cell_type": "code",
   "execution_count": null,
   "metadata": {},
   "outputs": [],
   "source": []
  }
 ],
 "metadata": {
  "kernelspec": {
   "display_name": "Python 3",
   "language": "python",
   "name": "python3"
  },
  "language_info": {
   "codemirror_mode": {
    "name": "ipython",
    "version": 3
   },
   "file_extension": ".py",
   "mimetype": "text/x-python",
   "name": "python",
   "nbconvert_exporter": "python",
   "pygments_lexer": "ipython3",
   "version": "3.7.7"
  }
 },
 "nbformat": 4,
 "nbformat_minor": 4
}
